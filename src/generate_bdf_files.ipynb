{
 "cells": [
  {
   "cell_type": "code",
   "execution_count": 9,
   "metadata": {},
   "outputs": [],
   "source": [
    "import numpy as np\n",
    "import matplotlib.pyplot as plt"
   ]
  },
  {
   "cell_type": "code",
   "execution_count": 6,
   "metadata": {},
   "outputs": [],
   "source": [
    "xmin = -9\n",
    "xmax = 9\n",
    "dx = 0.1\n",
    "\n",
    "ymin = -12\n",
    "ymax = 12\n",
    "dy = 0.1"
   ]
  },
  {
   "cell_type": "code",
   "execution_count": 23,
   "metadata": {},
   "outputs": [],
   "source": [
    "# x_coords and y_coords cell centered\n",
    "x_coords = np.arange(xmin + dx/2, xmax + dx/2, dx)\n",
    "y_coords = np.arange(ymax - dy/2, ymin - dy/2, -dy)"
   ]
  },
  {
   "cell_type": "code",
   "execution_count": 24,
   "metadata": {},
   "outputs": [],
   "source": [
    "xx, yy = np.meshgrid(x_coords, y_coords, indexing='xy')"
   ]
  },
  {
   "cell_type": "code",
   "execution_count": 25,
   "metadata": {},
   "outputs": [],
   "source": [
    "r = 1.8288\n",
    "\n",
    "inside_circle = np.square(xx) + np.square(yy) <= np.square(r)"
   ]
  },
  {
   "cell_type": "code",
   "execution_count": 26,
   "metadata": {},
   "outputs": [
    {
     "data": {
      "text/plain": [
       "array([[-8.95, -8.85, -8.75, ...,  8.75,  8.85,  8.95],\n",
       "       [-8.95, -8.85, -8.75, ...,  8.75,  8.85,  8.95],\n",
       "       [-8.95, -8.85, -8.75, ...,  8.75,  8.85,  8.95],\n",
       "       ...,\n",
       "       [-8.95, -8.85, -8.75, ...,  8.75,  8.85,  8.95],\n",
       "       [-8.95, -8.85, -8.75, ...,  8.75,  8.85,  8.95],\n",
       "       [-8.95, -8.85, -8.75, ...,  8.75,  8.85,  8.95]])"
      ]
     },
     "execution_count": 26,
     "metadata": {},
     "output_type": "execute_result"
    }
   ],
   "source": [
    "xx"
   ]
  },
  {
   "cell_type": "code",
   "execution_count": 27,
   "metadata": {},
   "outputs": [
    {
     "data": {
      "text/plain": [
       "array([[ 11.95,  11.95,  11.95, ...,  11.95,  11.95,  11.95],\n",
       "       [ 11.85,  11.85,  11.85, ...,  11.85,  11.85,  11.85],\n",
       "       [ 11.75,  11.75,  11.75, ...,  11.75,  11.75,  11.75],\n",
       "       ...,\n",
       "       [-11.75, -11.75, -11.75, ..., -11.75, -11.75, -11.75],\n",
       "       [-11.85, -11.85, -11.85, ..., -11.85, -11.85, -11.85],\n",
       "       [-11.95, -11.95, -11.95, ..., -11.95, -11.95, -11.95]])"
      ]
     },
     "execution_count": 27,
     "metadata": {},
     "output_type": "execute_result"
    }
   ],
   "source": [
    "yy"
   ]
  },
  {
   "cell_type": "code",
   "execution_count": 28,
   "metadata": {},
   "outputs": [
    {
     "data": {
      "text/plain": [
       "<matplotlib.image.AxesImage at 0x1177f6e10>"
      ]
     },
     "execution_count": 28,
     "metadata": {},
     "output_type": "execute_result"
    },
    {
     "data": {
      "image/png": "[encoded data removed]",
      "text/plain": [
       "<Figure size 640x480 with 1 Axes>"
      ]
     },
     "metadata": {},
     "output_type": "display_data"
    }
   ],
   "source": [
    "plt.imshow(inside_circle)"
   ]
  },
  {
   "cell_type": "code",
   "execution_count": 29,
   "metadata": {},
   "outputs": [],
   "source": [
    "control_mass =  0.5\n",
    "\n",
    "treatment_mass = 1.27"
   ]
  },
  {
   "cell_type": "code",
   "execution_count": 30,
   "metadata": {},
   "outputs": [
    {
     "data": {
      "text/plain": [
       "(240, 180)"
      ]
     },
     "execution_count": 30,
     "metadata": {},
     "output_type": "execute_result"
    }
   ],
   "source": [
    "inside_circle.shape"
   ]
  },
  {
   "cell_type": "code",
   "execution_count": null,
   "metadata": {},
   "outputs": [],
   "source": []
  }
 ],
 "metadata": {
  "kernelspec": {
   "display_name": "bandy",
   "language": "python",
   "name": "python3"
  },
  "language_info": {
   "codemirror_mode": {
    "name": "ipython",
    "version": 3
   },
   "file_extension": ".py",
   "mimetype": "text/x-python",
   "name": "python",
   "nbconvert_exporter": "python",
   "pygments_lexer": "ipython3",
   "version": "3.11.5"
  }
 },
 "nbformat": 4,
 "nbformat_minor": 2
}
